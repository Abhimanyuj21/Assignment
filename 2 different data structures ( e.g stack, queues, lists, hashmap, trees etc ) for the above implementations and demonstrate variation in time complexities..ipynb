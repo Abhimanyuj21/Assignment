{
 "cells": [
  {
   "cell_type": "code",
   "execution_count": null,
   "id": "837559fa",
   "metadata": {},
   "outputs": [],
   "source": [
    "import tensorflow as tf  \n",
    "import pandas as pd\n",
    "import numpy as np\n",
    "import matplotlib.pyplot as plt"
   ]
  },
  {
   "cell_type": "code",
   "execution_count": null,
   "id": "e3ab85b6",
   "metadata": {},
   "outputs": [],
   "source": [
    "df = pd.read_csv('../input/resume-dataset/UpdatedResumeDataSet.csv')\n",
    "df.head()"
   ]
  },
  {
   "cell_type": "code",
   "execution_count": null,
   "id": "7754f045",
   "metadata": {},
   "outputs": [],
   "source": [
    "category = df['Category'].value_counts().reset_index()\n",
    "category"
   ]
  },
  {
   "cell_type": "code",
   "execution_count": 1,
   "id": "a0326e20",
   "metadata": {},
   "outputs": [],
   "source": [
    "class Node: \n",
    "    def __init__(self, data): \n",
    "        self.data = data \n",
    "        self.next = None\n",
    "def fun1(head):\n",
    "    if(head == None):\n",
    "        return\n",
    "    fun1(head.next) \n",
    "    print(head.data, end = \" \")\n",
    "def fun2(start):\n",
    "      \n",
    "    if(start == None):\n",
    "        return\n",
    "    print(start.data, end = \" \")\n",
    "      \n",
    "    if(start.next != None ):\n",
    "        fun2(start.next.next) \n",
    "    print(start.data, end = \" \")\n",
    "def push( head, new_data):\n",
    "    new_node = Node(new_data)\n",
    "    new_node.next = head\n",
    "    head = new_node\n",
    "    return head\n",
    "head = None\n",
    "head = Node(5) \n",
    "head = push(head, 4) \n",
    "head = push(head, 3) \n",
    "head = push(head, 2) \n",
    "head = push(head, 1) \n",
    "  \n",
    "print(\"Output of fun1() for list 1->2->3->4->5\")\n",
    "fun1(head) \n",
    "  \n",
    "print(\"\\nOutput of fun2() for list 1->2->3->4->5\") \n",
    "fun2(head)"
   ]
  },
  {
   "cell_type": "code",
   "execution_count": null,
   "id": "3669a883",
   "metadata": {},
   "outputs": [],
   "source": []
  },
  {
   "cell_type": "code",
   "execution_count": null,
   "id": "a2e82095",
   "metadata": {},
   "outputs": [],
   "source": [
    "class Node:\n",
    "    def __init__(self, data):\n",
    "        self.data = data\n",
    "        self.next = None\n",
    "        self.prev = None\n",
    " \n",
    " \n",
    "class DoublyLinkedList:\n",
    "    def __init__(self):\n",
    "        self.head = None\n",
    "    def reverse(self):\n",
    "        temp = None\n",
    "        current = self.head\n",
    "        while current is not None:\n",
    "            temp = current.prev\n",
    "            current.prev = current.next\n",
    "            current.next = temp\n",
    "            current = current.prev\n",
    "        if temp is not None:\n",
    "            self.head = temp.prev\n",
    "    def push(self, new_data):\n",
    "        new_node = Node(new_data)\n",
    "        new_node.next = self.head\n",
    "        if self.head is not None:\n",
    "            self.head.prev = new_node\n",
    "        self.head = new_node\n",
    " \n",
    "    def printList(self, node):\n",
    "        while(node is not None):\n",
    "            print(node.data, end=' ')\n",
    "            node = node.next\n",
    "if __name__ == \"__main__\":\n",
    "    dll = DoublyLinkedList()\n",
    "    dll.push(2)\n",
    "    dll.push(4)\n",
    "    dll.push(8)\n",
    "    dll.push(10)\n",
    " \n",
    "    print(\"\\nOriginal Linked List\")\n",
    "    dll.printList(dll.head)\n",
    "    dll.reverse()\n",
    " \n",
    "    print(\"\\nReversed Linked List\")\n",
    "    dll.printList(dll.head)"
   ]
  }
 ],
 "metadata": {
  "kernelspec": {
   "display_name": "Python 3 (ipykernel)",
   "language": "python",
   "name": "python3"
  },
  "language_info": {
   "codemirror_mode": {
    "name": "ipython",
    "version": 3
   },
   "file_extension": ".py",
   "mimetype": "text/x-python",
   "name": "python",
   "nbconvert_exporter": "python",
   "pygments_lexer": "ipython3",
   "version": "3.10.5"
  }
 },
 "nbformat": 4,
 "nbformat_minor": 5
}
