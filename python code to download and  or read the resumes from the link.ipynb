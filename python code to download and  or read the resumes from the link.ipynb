{
 "cells": [
  {
   "cell_type": "code",
   "execution_count": null,
   "id": "4ed453da",
   "metadata": {},
   "outputs": [],
   "source": [
    "import json \n",
    "import os\n",
    "from pathlib import Path\n",
    "\n",
    "# your api key\n",
    "api_key = {\n",
    "'username':\"username\" ,\n",
    "'key':\"some_api_key\"}\n",
    "\n",
    "# uses pathlib Path\n",
    "kaggle_path = Path('/root/.kaggle')\n",
    "os.makedirs(kaggle_path, exist_ok=True)\n",
    "\n",
    "# opens file and dumps python dict to json object \n",
    "with open (kaggle_path/'kaggle.json', 'w') as handl:\n",
    "    json.dump(api_key,handl)\n",
    "\n",
    "os.chmod(kaggle_path/'kaggle.json', 600)"
   ]
  },
  {
   "cell_type": "code",
   "execution_count": null,
   "id": "79996fa3",
   "metadata": {},
   "outputs": [],
   "source": [
    "!pip install kaggle"
   ]
  },
  {
   "cell_type": "code",
   "execution_count": null,
   "id": "3c44a8be",
   "metadata": {},
   "outputs": [],
   "source": [
    "import kaggle\n",
    "\n",
    "kaggle.api.authenticate()\n",
    "\n",
    "kaggle.api.dataset_download_files('Resume_Dataset', path='the_path_you_want_to_download_the_files_to', unzip=True)"
   ]
  }
 ],
 "metadata": {
  "kernelspec": {
   "display_name": "Python 3 (ipykernel)",
   "language": "python",
   "name": "python3"
  },
  "language_info": {
   "codemirror_mode": {
    "name": "ipython",
    "version": 3
   },
   "file_extension": ".py",
   "mimetype": "text/x-python",
   "name": "python",
   "nbconvert_exporter": "python",
   "pygments_lexer": "ipython3",
   "version": "3.10.5"
  }
 },
 "nbformat": 4,
 "nbformat_minor": 5
}
