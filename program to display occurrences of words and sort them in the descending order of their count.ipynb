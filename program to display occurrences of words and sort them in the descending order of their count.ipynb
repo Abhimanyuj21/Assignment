{
 "cells": [
  {
   "cell_type": "code",
   "execution_count": null,
   "id": "8b6cf0b1",
   "metadata": {},
   "outputs": [],
   "source": [
    "import tensorflow as tf  \n",
    "import pandas as pd\n",
    "import numpy as np\n",
    "import matplotlib.pyplot as plt"
   ]
  },
  {
   "cell_type": "code",
   "execution_count": null,
   "id": "c8d22b49",
   "metadata": {},
   "outputs": [],
   "source": [
    "df = pd.read_csv('../input/resume-dataset/UpdatedResumeDataSet.csv')\n",
    "df.head()"
   ]
  },
  {
   "cell_type": "code",
   "execution_count": null,
   "id": "e73110f0",
   "metadata": {},
   "outputs": [],
   "source": [
    "category = df['Category'].value_counts().reset_index()\n",
    "category"
   ]
  },
  {
   "cell_type": "code",
   "execution_count": null,
   "id": "c0466ee6",
   "metadata": {},
   "outputs": [],
   "source": [
    "d = df.dict()\n",
    "for line in text:\n",
    "    line = line.strip()\n",
    "    line = line.lower()\n",
    "    words = line.split(\" \")\n",
    "    for word in words:\n",
    "        if word in d:\n",
    "            d[word] = d[word] + 1\n",
    "        else:\n",
    "            d[word] = 1\n",
    "for key in list(d.keys()):\n",
    "    print(key, \":\", d[key])"
   ]
  }
 ],
 "metadata": {
  "kernelspec": {
   "display_name": "Python 3 (ipykernel)",
   "language": "python",
   "name": "python3"
  },
  "language_info": {
   "codemirror_mode": {
    "name": "ipython",
    "version": 3
   },
   "file_extension": ".py",
   "mimetype": "text/x-python",
   "name": "python",
   "nbconvert_exporter": "python",
   "pygments_lexer": "ipython3",
   "version": "3.10.5"
  }
 },
 "nbformat": 4,
 "nbformat_minor": 5
}
